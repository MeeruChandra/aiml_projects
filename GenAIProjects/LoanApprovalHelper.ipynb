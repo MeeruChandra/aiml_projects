{
 "cells": [
  {
   "cell_type": "code",
   "execution_count": 1,
   "id": "4026f07c",
   "metadata": {},
   "outputs": [],
   "source": [
    "import warnings\n",
    "warnings.filterwarnings('ignore')\n",
    "\n",
    "%config IPCompleter.greedy=True"
   ]
  },
  {
   "cell_type": "code",
   "execution_count": 2,
   "id": "1eff6744",
   "metadata": {},
   "outputs": [],
   "source": [
    "import os\n",
    "import openai\n",
    "import pytesseract\n",
    "from PIL import Image\n",
    "import PyPDF2\n",
    "import json\n",
    "from dotenv import load_dotenv\n"
   ]
  },
  {
   "cell_type": "markdown",
   "id": "a889c62e",
   "metadata": {},
   "source": [
    "### Load Environment Variables"
   ]
  },
  {
   "cell_type": "code",
   "execution_count": 37,
   "id": "bdb122c1",
   "metadata": {},
   "outputs": [],
   "source": [
    "load_dotenv()\n",
    "openai.api_key= os.getenv('OPENAI_API_KEY') \n",
    "\n",
    "pytesseract.pytesseract.tesseract_cmd = os.getenv('OCR_PATH')  \n",
    "basePath =os.getenv('BASE_PATH') \n",
    "loanDocsPath =basePath + \"LoanDocs\\\\\"\n",
    "modelOutputPath =basePath + \"GPTOutput\\\\\""
   ]
  },
  {
   "cell_type": "code",
   "execution_count": 38,
   "id": "c2255653",
   "metadata": {
    "scrolled": true
   },
   "outputs": [
    {
     "name": "stdout",
     "output_type": "stream",
     "text": [
      "C:\\Meetu\\Meetu\\Truist\\GenAI\\GenAIUseCases\\LoanApprovalHelper\\\n"
     ]
    }
   ],
   "source": [
    "print(basePath)"
   ]
  },
  {
   "cell_type": "code",
   "execution_count": 39,
   "id": "9b6eb644",
   "metadata": {
    "scrolled": true
   },
   "outputs": [
    {
     "name": "stdout",
     "output_type": "stream",
     "text": [
      "C:\\Meetu\\Meetu\\Truist\\GenAI\\GenAIUseCases\\LoanApprovalHelper\\LoanDocs\\\n"
     ]
    }
   ],
   "source": [
    "print(loanDocsPath)"
   ]
  },
  {
   "cell_type": "code",
   "execution_count": 40,
   "id": "ed6ca378",
   "metadata": {},
   "outputs": [
    {
     "name": "stdout",
     "output_type": "stream",
     "text": [
      "C:\\Meetu\\Meetu\\Truist\\GenAI\\GenAIUseCases\\LoanApprovalHelper\\GPTOutput\\\n"
     ]
    }
   ],
   "source": [
    "print(modelOutputPath)"
   ]
  },
  {
   "cell_type": "markdown",
   "id": "e8b60dc1",
   "metadata": {},
   "source": [
    "## Functions"
   ]
  },
  {
   "cell_type": "code",
   "execution_count": 53,
   "id": "869b4dff",
   "metadata": {},
   "outputs": [],
   "source": [
    "def readOCRData(path,fileName):\n",
    "    # Path to the input image\n",
    "    image_path=os.path.join( path, fileName )\n",
    "    # Open the image using PIL (Python Imaging Library)\n",
    "    image = Image.open(image_path)#'C:\\Meetu\\Meetu\\Study\\OpenAPI\\OCR\\GPTOCR\\LoanDocs\\CreditScore.jpg')\n",
    "\n",
    "    # Perform OCR using pytesseract\n",
    "    text = pytesseract.image_to_string(image)\n",
    "\n",
    "    # Print the extracted text\n",
    "    print(text) \n",
    "    return text\n",
    "\n",
    "def writeToFile(path,fileToRead, textToWrite):\n",
    "    fileName = path + fileToRead\n",
    "    print (path)\n",
    "    with open(fileName, 'w') as file:\n",
    "        file.write(textToWrite)\n",
    "        \n",
    "def read_json_file(path,file_path):\n",
    "    fileName = path + file_path\n",
    "    with open(fileName, 'r') as file:\n",
    "        data = json.load(file)\n",
    "    return data\n",
    "\n",
    "def readFromFile(path,fileToRead):\n",
    "    fileName = path + fileToRead\n",
    "    with open(fileName, encoding=\"utf8\") as file:\n",
    "        code = file.read()\n",
    "    return code\n",
    "\n",
    "def read_pdf(path,fileToRead):\n",
    "    text = \"\"\n",
    "    fileName = path + fileToRead\n",
    "    with open(fileName, 'rb') as file:\n",
    "        pdf_reader = PyPDF2.PdfReader(file)\n",
    "        num_pages = len(pdf_reader.pages)\n",
    "        for page_num in range(num_pages):\n",
    "            page = pdf_reader.pages[page_num]\n",
    "            text += page.extract_text()\n",
    "    return text"
   ]
  },
  {
   "cell_type": "markdown",
   "id": "d09466b2",
   "metadata": {},
   "source": [
    "### Function to make call to OpenAI GPT 3.5 turbo model"
   ]
  },
  {
   "cell_type": "code",
   "execution_count": 8,
   "id": "b9abfd21",
   "metadata": {},
   "outputs": [],
   "source": [
    " # Call OpenAI \n",
    "def getOpenAIResponse(systemPrompt, userPrompt, assistantPrompt):\n",
    "    # Call OpenAI API to generate a description of the architecture\n",
    "    \n",
    "    response = openai.ChatCompletion.create(\n",
    "      model=\"gpt-3.5-turbo\",\n",
    "      messages=[\n",
    "            {\"role\": \"system\", \"content\": systemPrompt},\n",
    "            {\"role\": \"user\", \"content\": userPrompt},\n",
    "          {\"role\": \"assistant\", \"content\": assistantPrompt},\n",
    "        ],\n",
    "        temperature=1,\n",
    "    )\n",
    "   \n",
    "    #description = response.choices[0].text.strip()\n",
    "    #print(response)\n",
    "    return response.choices[0].message.content"
   ]
  },
  {
   "cell_type": "markdown",
   "id": "df8bb85f",
   "metadata": {},
   "source": [
    "## Perform OCR on Credit Score Image File"
   ]
  },
  {
   "cell_type": "code",
   "execution_count": 9,
   "id": "bf22112f",
   "metadata": {},
   "outputs": [
    {
     "name": "stdout",
     "output_type": "stream",
     "text": [
      "CREDIT INFORMATION BUREAU (INDIA) LIMITED\n",
      "\n",
      "IN ASSOCIATION WITH DUN & BRADSTREET AND TRANSUNION\n",
      "CIBIL CONSUMER CREDIT INFORMATION REPORT\n",
      "\n",
      "CONSUMER/BORROWER: PRABHU KABALI\n",
      "MEMBER ID: BP00340001 (IMAGINARY BANK)\n",
      "MEMBER REFERENCE NUMBER: BB-ENQO1\n",
      "\n",
      "Date: 12-10-2006\n",
      "TIME: 07:28:53\n",
      "CONTROL NUMBER: 295,360,133\n",
      "\n",
      "CONSUMER/BORROWER INFORMATION:\n",
      "NAME: PRABHU KABALI\n",
      "\n",
      "PERSONAL DETAILS TELEPHONE(S) IDENTIFICATION\n",
      "DATE OF BIRTH: 16-08-1976 55332211 INCOME TAX ID: AMYFK0228P\n",
      "VOTER ID:\n",
      "\n",
      "GENDER: MALE 52951 Wee oat NG\n",
      "\n",
      "55826\n",
      "ADDRESS (ES):\n",
      "ADDRESS DATE REPORTED\n",
      "24/5 KANNAGI STREET, VINAYAGAPURAM AMBATTUR, CHENNAI 24-04-2006\n",
      "TAMIL NADU 600053\n",
      "24/5 KANNAGI STREET, VINAYAGAPURAM AMBATTUR, CHENNAI 02-01-2002\n",
      "\n",
      "TAMIL NADU 600053\n",
      "\n",
      "CIBIL TRANSUNION SCORE:\n",
      "SCORE SCORING FACTORS\n",
      "673 4: TEXT PF SCORING FACTOR GOES HERE, A REASON WHY THE CALCULATED SCORE IS WHAT IT IS.\n",
      "\n",
      "2: TEXT PF SCORING FACTOR GOES HERE, POSSIBLY INFORMATION RELATED TO NUMBER OF OPEN ACCOUNTS OR\n",
      "OVERALL CREDIT EXPOSURE.\n",
      "\n",
      "SUMMARY:\n",
      "ACCOUNT(S)\n",
      "ACCOUNT TYPE ACCOUNTS ADVANCES BALANCES DATE OPENED\n",
      "BE ote TOTAL:3 HGH cR/sane amr: 78,000 cunnenT: 64341 RECENT: 18-3-2005\n",
      "OVERDUE: 2 OVERDUE 6434 OLDEST: 03-02-2001\n",
      "ZERO-BALANCE: 1\n",
      "ENQUIRIES\n",
      "ENQUIRY PURPOSE TOTAL PAST 30 DAYS PAST 12 MONTHS. PAST 24 MONTHS: RECENT\n",
      "All Enquiries 4 1 3 0 n8;2-2006\n",
      "ACCOUNT(S):\n",
      "ACCOUNT DATES AMOUNTS STATUS\n",
      "MEMBER NAME: NOT DISCLOSED OPENED: 10-01-2001 SANCTIONED: 16,000 Written Off\n",
      "ACCOUNT NUMBER: NOT DISCLOSED LAST PAYMENT: 10-01-2005 CURRENT BALANCE: 0\n",
      "TYPE: AUTO LOAN CLOSED: 24-12-2004 OVERDUE: 0\n",
      "OWNERSHIP: INDIVIDUAL REPORTED: 15-02-2005\n",
      "DAYS PAST DUE/ASSET CLASSIFICATION (UP TO 36 MONTHS; LEFT TO RIGHT)\n",
      "182 152 122 092 +062 +032 «012 -«009~«005~«STD.--012-«000:«000.:«STD.-«:000:«000.-«000—=s«009\n",
      "12-04 11-04 10-04 09-04 08-04 07-04 06-04 05-04 04-04 03-04 02-04 01-04 12-03 11-03 10-03 09-03 08-03 07-03\n",
      "000 STD SUB STD 000 015 000 000 045 030 000 STD STD STD STD STD\n",
      "06-03 05-03 04-03 03-03 02-03 01-03 12-02 11-02 10-02 09-02 08-02 07-02 06-02 05-02 04-02 03-02\n",
      "with ©COPYRIGHT 2007 CREDIT INFORMATION BUREAU (INDIA) LIMITED. ALL RIGHTS RESERVED. PAGE 1 OF 2\n",
      "\n",
      "TransUnion.\n",
      "\n",
      "CREDIT INFORMATION BUREAU (INDIA) LIMITED\n",
      "\n",
      "IN ASSOCIATION WITH DUN & BRADSTREET AND TRANSUNION\n",
      "CIBIL CONSUMER CREDIT INFORMATION REPORT\n",
      "\n",
      "CONSUMER/BORROWER: PRABHU KABALI\n",
      "MEMBER ID: BP00340001 (IMAGINARY BANK)\n",
      "MEMBER REFERENCE NUMBER: BB-ENQO1\n",
      "\n",
      "DATE: 12-10-2006\n",
      "TIME: 07:28:53\n",
      "CONTROL NUMBER: 295,360,133\n",
      "\n",
      "ACCOUNT DATES AMOUNTS STATUS\n",
      "\n",
      "MEMBER NAME: IMAGINARY BANK OPENED: 10-07-2001 SANCTIONED: 27 000\n",
      "\n",
      "ACCOUNT NUMBER: RKP514 LAST PAYMENT: 29-06-2004 CURRENT BALANCE: 5,197\n",
      "\n",
      "TYPE: CONSUMER LOAN CLOSED: OVERDUE: 5,197\n",
      "\n",
      "OWNERSHIP. INDIVIDUAL REPORTED: 15-03-2002\n",
      "\n",
      "DAYS PAST DUE/ASSET CLASSIFICATION (UP TO 36 MONTHS; LEFT TO RIGHT)\n",
      "\n",
      "000 045 STD STD XXX XXX 000 XXX 000 012 009 005 STD 012 000 000 STD 000\n",
      "\n",
      "03.05 02-05 01.05 1204 11-04 10-04 09.04 08-04 7-04 06-04 05-04 © 04-04 03-04 «02-04 01-04 12038 11-03 10-03\n",
      "\n",
      "000 000 009 000 STD SUB STD 000 015 000 000 045 030 000 STD STD STD STD\n",
      "\n",
      "09-03 08-03 07-03 © 06-03 05-03 04-03 03-03 «0203 ««f-03.««1202-«11-02 «10-02 0902-08-02. 7-02-0602 5-02 04-02\n",
      "\n",
      "ACCOUNT DATES AMOUNTS STATUS\n",
      "\n",
      "MEMBER NAME: NOT DISCLOSED OPENED: 10-06-2001 HIGH CREDIT: 35,000\n",
      "\n",
      "ACCOUNT NUMBER: NOT DISCLOSED LAST PAYMENT: 28-06-2002 CURRENT BALANCE: 1,234\n",
      "\n",
      "TYPE: CREDIT CARD CLOSED. OVERDUE: 1,234\n",
      "\n",
      "OWNERSHIP. INDIVIDUAL REPORTED: 18-03-2005\n",
      "\n",
      "DAYS PAST DUE/ASSET CLASSIFICATION (UP TO 36 MONTHS; LEFT TO RIGHT)\n",
      "\n",
      "030 000 000 000 000 000 000 000 000 000 000 000 000\n",
      "\n",
      "03.05 0205 01.05 1204 11-04 10-04 09-04 08-04 07-04 06-04 05-04 © 04-04 03-04\n",
      "\n",
      "ENQUIRIES:\n",
      "\n",
      "MEMBER ENQUIRY DATE ENQUIRY PURPOSE ENQUIRY AMOUNT\n",
      "IMAGINARY BANK 11-07-2006 CREDIT CARD 50,000\n",
      "NOT DISCLOSED 18-09-2006 HOUSING LOAN 50,000\n",
      "NOT DISCLOSED 24-01-2006 SECURED LOAN 50,000\n",
      "NOT DISCLOSED 26-12-2005 AUTOMOBILE LOAN 50,000\n",
      "\n",
      "END OF REPORT ON PRABHU KABALI\n",
      "\n",
      "All information contained in this credit report has been collated by Credit Information Bureau (India) Limited (\"CIBIL\") based on information provided by its\n",
      "various members (\"Members\"). Consequently CIBIL disclaims any and all responsibility on the accuracy, completeness, and veracity of any and all such\n",
      "information as provided. The information is current and up to date to such extent as provided by its Members. Any information contained herein does not\n",
      "reflect the views of CIBIL or its directors or employees. The use of this report is governed by the terms and conditions of the Operating Rules for CIBIL and\n",
      "\n",
      "its Members.\n",
      "\n",
      "‘TransUnion.\n",
      "\n",
      "©COPYRIGHT 2007 CREDIT INFORMATION BUREAU (INDIA) LIMITED. ALL RIGHTS RESERVED.\n",
      "\n",
      "PAGE 2 OF 2\n",
      "\n"
     ]
    }
   ],
   "source": [
    "#OCR Data \n",
    "creditScoreData = readOCRData(loanDocsPath,'CreditScore.jpg')\n"
   ]
  },
  {
   "cell_type": "code",
   "execution_count": 10,
   "id": "9cfa8aa0",
   "metadata": {
    "scrolled": true
   },
   "outputs": [
    {
     "name": "stdout",
     "output_type": "stream",
     "text": [
      "C:\\Meetu\\Meetu\\Truist\\GenAI\\GenAIUseCases\\LoanApprovalHelper\\GPTOutput\\\n"
     ]
    }
   ],
   "source": [
    "writeToFile(modelOutputPath, \"CreditScoreData.txt\", creditScoreData)"
   ]
  },
  {
   "cell_type": "markdown",
   "id": "23caf4e2",
   "metadata": {},
   "source": [
    "## Classify Document Type"
   ]
  },
  {
   "cell_type": "markdown",
   "id": "26963159",
   "metadata": {},
   "source": [
    "### List of pre defined Doc types"
   ]
  },
  {
   "cell_type": "code",
   "execution_count": 11,
   "id": "0bb7ea5a",
   "metadata": {},
   "outputs": [],
   "source": [
    "#Classification\n",
    "DocTypes =\"\"\"\n",
    "           1. CreditScore (CS)\n",
    "           2. SalarySlip (SAL)\n",
    "           3. EmployeeverficaitionLetter (EVL)\n",
    "           4. LoanAgreement (LA)\n",
    "           5. AddressProof (AP)\n",
    "           6. PersonalIdentification (PI)\n",
    "           7. Others (OTH)\n",
    "        \"\"\""
   ]
  },
  {
   "cell_type": "markdown",
   "id": "2aed56c6",
   "metadata": {},
   "source": [
    "### Fetch Doc Type for the Credit Score document"
   ]
  },
  {
   "cell_type": "code",
   "execution_count": 12,
   "id": "1af81cea",
   "metadata": {},
   "outputs": [],
   "source": [
    "###Classify\n",
    "typeOfDoc= getOpenAIResponse(\"You are an efficient ECM expert in a big Indian bank\", \n",
    "                                 f\"\"\"Please find what is the document type of the document  in double ticks ``{creditScoreData}``\\n.\n",
    "                                 Please use the document types from the list in triple ticks\\n \n",
    "                                 ```{DocTypes}```.\\n Please give the output in json format\"\"\", \"\")\n"
   ]
  },
  {
   "cell_type": "code",
   "execution_count": 13,
   "id": "09d6f40e",
   "metadata": {},
   "outputs": [
    {
     "name": "stdout",
     "output_type": "stream",
     "text": [
      "```json\n",
      "{\n",
      "    \"Document Type\": \"CreditScore (CS)\"\n",
      "}\n",
      "```\n"
     ]
    }
   ],
   "source": [
    "print (typeOfDoc)"
   ]
  },
  {
   "cell_type": "markdown",
   "id": "4f2e5e73",
   "metadata": {},
   "source": [
    "## Retrieve the Credit Score "
   ]
  },
  {
   "cell_type": "code",
   "execution_count": 20,
   "id": "d4bc331a",
   "metadata": {},
   "outputs": [],
   "source": [
    "creditScore= getOpenAIResponse(\"You are an Loan Manager for a big Indian bank\", \n",
    "                               \"What is the credit score? Please give the output in json format ad only give the Credit Score with the key credit_score\",\n",
    "                               creditScoreData)\n"
   ]
  },
  {
   "cell_type": "code",
   "execution_count": 21,
   "id": "abc17f7e",
   "metadata": {
    "scrolled": true
   },
   "outputs": [
    {
     "name": "stdout",
     "output_type": "stream",
     "text": [
      "{\n",
      "  \"credit_score\": 673\n",
      "}\n"
     ]
    }
   ],
   "source": [
    "print(creditScore)\n",
    "writeToFile(modelOutputPath,\"CreditScoreResult.json\",creditScore )\n",
    "creditScorejson = read_json_file(ModelOutputPath,\"CreditScoreResult.json\")"
   ]
  },
  {
   "cell_type": "code",
   "execution_count": 24,
   "id": "eb921de1",
   "metadata": {},
   "outputs": [
    {
     "name": "stdout",
     "output_type": "stream",
     "text": [
      "673\n"
     ]
    }
   ],
   "source": [
    "CreditScoreForApplication=creditScorejson[\"credit_score\"]\n",
    "print(CreditScoreForApplication)"
   ]
  },
  {
   "cell_type": "markdown",
   "id": "1dd29a4d",
   "metadata": {},
   "source": [
    "## Check weightage for Loan approval Process \n",
    "1. Read Rules defined in a text file\n",
    "2. AI call to determine the weightage based on the credit score"
   ]
  },
  {
   "cell_type": "code",
   "execution_count": 41,
   "id": "a77d1bff",
   "metadata": {},
   "outputs": [
    {
     "name": "stdout",
     "output_type": "stream",
     "text": [
      "1.\tCredit Score:\n",
      " \tCredit Score: >701, Rating:Excellent,Weightage:15 points\n",
      "\tCredit Score: 501 to 700, Rating:Good,Weightage:10 points\n",
      "\tCredit Score: 301 to 500, Rating:Fair,Weightage:5 points\n",
      "\tCredit Score:<300, Rating:Poor,Weightage:-10 points\n",
      "\tpreferred: Good\t\n",
      "2.\tIncome and Employment Verification:\n",
      "\tStable job and consistent income: +10 points\n",
      "\tUnstable job or irregular income: -5 points\n",
      "\tpreferred: Stable job and consistent income\t\n",
      "3.\tDebt-to-Income Ratio (DTI):\n",
      "\tDTI below 30%: +12 points\n",
      "\tDTI between 30% and 40%: +6 points\n",
      "\tDTI above 40%: -10 points\n",
      "\tpreferred: 35%\n",
      "4.\tLoan Amount and Collateral:\n",
      "\tCollateral offered (property value): +15 points\n",
      "\tLoan amount within 80% of collateral value: +10 points\n",
      "\tLoan amount exceeding collateral value: -10 points\n",
      "\tpreferred: >70%\n",
      "5.\tLoan Purpose:\n",
      "\tPrimary residence: +15 points\n",
      "\tInvestment property: +5 points\n",
      "\tVacant land or speculative projects: -10 points\n",
      "\tpreferred: Primary Residence\n",
      "6.\tRegulatory Compliance:\n",
      "\tAdhering to all regulatory guidelines: +10 points\n",
      "\tMinor compliance issues: -5 points\n",
      "\tMajor compliance violations: -15 points\n",
      "\tpreferred: Adhere to all\n",
      "7.\tLoan-to-Value Ratio (LTV):\n",
      "\tLTV below 70%: +10 points\n",
      "\tLTV between 70% and 90%: +5 points\n",
      "\tLTV above 90%: -10 points\n",
      "\tpreferred: 80% or more\n",
      "8.\tLoan Repayment Terms:\n",
      "\tFavorable interest rate and flexible terms: +10 points\n",
      "\tStandard interest rate and terms: +5 points\n",
      "\tHigh interest rate or unfavorable terms: -10 points \n",
      "\tpreferred: Flexible EMIs for 15 years\n",
      "\n",
      "\n"
     ]
    }
   ],
   "source": [
    "rules =readFromFile(loanDocsPath,\"RulesForLoanApproval.txt\")\n",
    "print(rules)"
   ]
  },
  {
   "cell_type": "code",
   "execution_count": 26,
   "id": "c387ab20",
   "metadata": {},
   "outputs": [],
   "source": [
    "creditScoreWeightage= getOpenAIResponse(\"You are an expert Data Analyst\",\n",
    "                                        f\"\"\"Please determine how much weightage with Credit Score of {creditScore}. \n",
    "                                        Rules for calculation of weightage is given in triple ticks. ```{rules} ``` .\n",
    "                                        Please return only the weightage value.\"\"\", '')\n"
   ]
  },
  {
   "cell_type": "code",
   "execution_count": 27,
   "id": "7c407c85",
   "metadata": {},
   "outputs": [
    {
     "name": "stdout",
     "output_type": "stream",
     "text": [
      "Based on the provided rules, the weightage for a Credit Score of 673 falls under the \"Good\" category, which has a weightage of 10 points. \n",
      "\n",
      "Therefore, the weightage value for a Credit Score of 673 is 10 points.\n"
     ]
    }
   ],
   "source": [
    "print(creditScoreWeightage)"
   ]
  },
  {
   "cell_type": "markdown",
   "id": "35097bca",
   "metadata": {},
   "source": [
    "### Read Data from \n",
    "1. Employee Verification Details pdf file\n",
    "2. Pay Slips\n"
   ]
  },
  {
   "cell_type": "markdown",
   "id": "3be5d942",
   "metadata": {},
   "source": [
    "#### Employee Verfication Data"
   ]
  },
  {
   "cell_type": "code",
   "execution_count": 54,
   "id": "62be3bff",
   "metadata": {
    "scrolled": true
   },
   "outputs": [
    {
     "name": "stdout",
     "output_type": "stream",
     "text": [
      "C:\\Meetu\\Meetu\\Truist\\GenAI\\GenAIUseCases\\LoanApprovalHelper\\\n",
      "3/15/20 23 \n",
      " \n",
      " \n",
      "Mr. Mike Williams  \n",
      "Century Apartment Complex \n",
      "25 Century Lane  \n",
      "Springfield, MO 13243  \n",
      " \n",
      "Subject: Letter of Employment Verification for Prabu Kabali  \n",
      " \n",
      " \n",
      "Mr. Williams,  \n",
      " \n",
      " \n",
      "Prabhu Kabali  has been employed as a Marketing Manager at Smith \n",
      "Industries since Jan 15th, 2010.  \n",
      "Sally's annual salary as of 3/1/20 23 is 2,00,000  \n",
      "Rupees . He works on a full -time basis.  \n",
      "Please contact me at 1 800 555 5555 if I can be of any additional service.  \n",
      " \n",
      " \n",
      "Sincerely,  \n",
      " \n",
      " \n",
      " \n",
      " \n",
      "Bob Smith \n",
      "Smith  Industries  \n",
      "123 Avenue North  \n",
      "Springfield, MO 12345  \n"
     ]
    }
   ],
   "source": [
    "EmpVerficationData = read_pdf(loanDocsPath,'employmentletter.pdf')\n",
    "writeToFile(basePath, \"employmentletter.txt\", EmpVerficationData)\n",
    "print(EmpVerficationData) "
   ]
  },
  {
   "cell_type": "markdown",
   "id": "8972a632",
   "metadata": {},
   "source": [
    "#### AI to Read requried details from the letter"
   ]
  },
  {
   "cell_type": "code",
   "execution_count": 55,
   "id": "9d3c5264",
   "metadata": {},
   "outputs": [],
   "source": [
    "EmploymentStatus= getOpenAIResponse(\"You are an expert Data Analyst\",\n",
    "                                        f\"\"\"Does the employee have a stable job from last 3 month\n",
    "                                        based on the letter in  triple ticks. ```{EmpVerficationData} ``` .\\n\n",
    "                                        Format for output \\n\n",
    "                                        \n",
    "                                        Years in Employment = \n",
    "                                        Is Full Time Employee (Y/N)=\n",
    "                                        Start Date of Employment = \n",
    "                                        \"\"\", '')"
   ]
  },
  {
   "cell_type": "code",
   "execution_count": 56,
   "id": "cd7a33c3",
   "metadata": {},
   "outputs": [
    {
     "name": "stdout",
     "output_type": "stream",
     "text": [
      "Years in Employment = 10 years\n",
      "Is Full Time Employee (Y/N) = Y\n",
      "Start Date of Employment = Jan 15th, 2010\n"
     ]
    }
   ],
   "source": [
    "print(EmploymentStatus)"
   ]
  },
  {
   "cell_type": "markdown",
   "id": "0abf9192",
   "metadata": {},
   "source": [
    "#### August Salary"
   ]
  },
  {
   "cell_type": "code",
   "execution_count": 58,
   "id": "2ace4c05",
   "metadata": {},
   "outputs": [
    {
     "name": "stdout",
     "output_type": "stream",
     "text": [
      " \n",
      "Payslip  \n",
      " \n",
      "ZooN oodle Private Limited  \n",
      " \n",
      "1 Chennai Aminjikarai. No.4, West. Mada Street, Koyambedu,  \n",
      "Aminjikarai, Chennai -. 600 107  \n",
      " \n",
      " \n",
      "Date of Joining  : 2018 -06-23 \n",
      "Pay Period  : August  2021  \n",
      "Worked  Days  31 Employee  Name  : Prabhu Kabali  \n",
      "Designation  : Marketing  Executive  \n",
      "Department  : Marketing  \n",
      " \n",
      " \n",
      " \n",
      "Earnings  \n",
      "Basic Pay  Amount   \n",
      "45000 Deductions  \n",
      "Provident  Fund  Amount   \n",
      "4800 \n",
      "Incentive Pay   12450  Profe ssional Tax   900 \n",
      "House Rent Allowance   20000 Education Cess   450 \n",
      "Meal Allowance   2250     \n",
      " \n",
      "Total Earnings   \n",
      "79700   \n",
      "Total Deductions   \n",
      "6150  \n",
      "  Net Pay  73550  \n",
      " \n",
      " \n",
      " \n",
      "₹73550  \n",
      "Rupees Seventy Three  Thousand \n",
      "Five Hundred  And Fifty . \n",
      " \n",
      " \n",
      "Employer  Signature  Employee  Signature  \n",
      " \n",
      " \n",
      " \n",
      " \n",
      " \n",
      " \n",
      " \n",
      "This is system generated pay  slip and does not require a signature.  \n",
      " \n"
     ]
    }
   ],
   "source": [
    "payAugust2021 = read_pdf(loanDocsPath,'Payslip August 2021.pdf')\n",
    "print(payAugust2021) "
   ]
  },
  {
   "cell_type": "code",
   "execution_count": 59,
   "id": "c93b899b",
   "metadata": {},
   "outputs": [],
   "source": [
    "AugustSalary= getOpenAIResponse(\"You are an expert Data Analyst\",\n",
    "                                        f\"\"\"What is salary and Month of the Salary of the employee from the PaySlip in triple ticks. ```{payAugust2021} ``` .\\n\n",
    "                                        Format for output \\n\n",
    "                                        \n",
    "                                        Salary= \n",
    "                                        Month= .\"\"\", '')\n"
   ]
  },
  {
   "cell_type": "code",
   "execution_count": 60,
   "id": "0b2f46fd",
   "metadata": {},
   "outputs": [
    {
     "name": "stdout",
     "output_type": "stream",
     "text": [
      "``` \n",
      "Salary= ₹73,550   \n",
      "Month= August 2021\n",
      "```\n"
     ]
    }
   ],
   "source": [
    "print(AugustSalary)"
   ]
  },
  {
   "cell_type": "markdown",
   "id": "dbe96bf3",
   "metadata": {},
   "source": [
    "#### September Salary"
   ]
  },
  {
   "cell_type": "code",
   "execution_count": 61,
   "id": "1441ea13",
   "metadata": {},
   "outputs": [
    {
     "name": "stdout",
     "output_type": "stream",
     "text": [
      " \n",
      "Payslip  \n",
      " \n",
      "ZooN oodle Private Limited  \n",
      " \n",
      "1 Chennai Aminjikarai. No.4, West. Mada  Street,  Koyambedu,   \n",
      "Aminjikarai,  Chennai -. 600 107  \n",
      " \n",
      " \n",
      "Date of Joining  : 2018 -06-23 \n",
      "Pay Period  : Sept  2021  \n",
      "Worked  Days  30 Employee  Name  : Prabhu Kabali  \n",
      "Designation  : Marketing  Executive  \n",
      "Department  : Marketing  \n",
      " \n",
      " \n",
      " \n",
      "Earnings  \n",
      "Basic Pay  Amount   \n",
      "45000 Deductions  \n",
      "Provident  Fund  Amount   \n",
      "4800 \n",
      "Incentive Pay   13700  Profe ssional Tax   900 \n",
      "House Rent Allowance   20000 Education Cess   450 \n",
      "Meal Allowance   2250     \n",
      " \n",
      "Total Earnings   \n",
      "80950   \n",
      "Total Deductions   \n",
      "6150  \n",
      "  Net Pay  74800  \n",
      " \n",
      " \n",
      " \n",
      "₹74800  \n",
      "Rupees Seventy Four  Thousand \n",
      "Eight  Hundred . \n",
      " \n",
      " \n",
      "Employer  Signature  Employee  Signature  \n",
      " \n",
      " \n",
      " \n",
      " \n",
      " \n",
      " \n",
      " \n",
      "This is system generated pay  slip and does not require a signature . \n",
      " \n"
     ]
    }
   ],
   "source": [
    "paySep2021 = read_pdf(loanDocsPath,'Payslip September 2021.pdf')\n",
    "#writeToFile(basePath, \"PayslipAugust2021.txt\", payAugust2021)\n",
    "print(paySep2021) "
   ]
  },
  {
   "cell_type": "code",
   "execution_count": 63,
   "id": "ef5da20f",
   "metadata": {},
   "outputs": [],
   "source": [
    "SepSalary= getOpenAIResponse(\"You are an expert Data Analyst\",\n",
    "                                        f\"\"\"What is salary and Month of the Salary of the employee from the PaySlip \n",
    "                                        in triple ticks. ```{paySep2021} ``` .\\n\n",
    "                                        Format for output \\n\n",
    "                                        \n",
    "                                        Salary= \n",
    "                                        Month= .\"\"\", '')"
   ]
  },
  {
   "cell_type": "code",
   "execution_count": 64,
   "id": "f91cece5",
   "metadata": {},
   "outputs": [
    {
     "name": "stdout",
     "output_type": "stream",
     "text": [
      "``` \n",
      "Salary= Rs. 74800 \n",
      "Month= September 2021 \n",
      "```\n"
     ]
    }
   ],
   "source": [
    "print(SepSalary)"
   ]
  },
  {
   "cell_type": "markdown",
   "id": "7ec89afd",
   "metadata": {},
   "source": [
    "## Determine weightage for the loan Application based on the document\n",
    "1. Credit Score\n",
    "2. Employment Status\n",
    "3. Pay Slips"
   ]
  },
  {
   "cell_type": "code",
   "execution_count": 65,
   "id": "01a8f2d5",
   "metadata": {},
   "outputs": [],
   "source": [
    "userDataFromDocs =f\"\"\"\n",
    "Credit Score : {CreditScoreForApplication}.\\n\n",
    "Employee Details : {EmploymentStatus}\\n\n",
    "Income: \n",
    "{SepSalary}\\n\n",
    "{AugustSalary}\\n\n",
    "Desired Loan Amount: 1500000 Rupees\\n\n",
    "Loan Purpose: Purchase of Home\\n\n",
    "Interest Rate for the Home Loan: 10%\\n\n",
    "Desired tenure: 20 years\\n\n",
    "User has been filling his tax returns regularly\\n\n",
    "User is looking for Flexible EMIs  \\n\n",
    "Value of house: 1600000 Rupees.\\n\n",
    "\n",
    "The user also has a scooter loan with monthly EMI of 3500 rupees.\\n\n",
    "Please calculate the EMI amount of the current loan in consideration . \\n\n",
    "Then use it to calculate the DTI. \\n\n",
    "Total Monthly EMI = EMI of the Current Loan + Other Loans\n",
    "\"\"\"\n",
    "\n",
    "weightageasPerDocs= getOpenAIResponse(\"You are an expert Data Analyst.\", \n",
    "                             f\"\"\"Please determine the total weightage for a loan application with the critria \n",
    "                             included in double ticks below \\n``{userDataFromDocs}``.\\n \n",
    "                             Rules for calculation of weightage is given in triple ticks below.\n",
    "                            ```{rules}```\\n\n",
    "                            Please share the steps used to calculate the weightage . \n",
    "                            Also include variance from the Preferred value and the final weightage.\"\"\",\"\")"
   ]
  },
  {
   "cell_type": "code",
   "execution_count": 66,
   "id": "19eca3d1",
   "metadata": {},
   "outputs": [
    {
     "name": "stdout",
     "output_type": "stream",
     "text": [
      "First, let's calculate the EMI amount of the current loan in consideration:\n",
      "\n",
      "EMI Calculation Formula:\n",
      "EMI = [P x R x (1+R)^N] / [(1+R)^N - 1]\n",
      "Where:\n",
      "P = Loan amount (Principal) = 1500000 Rupees\n",
      "R = Monthly interest rate = Annual interest rate / 12 = 10% / 12 = 0.0083333\n",
      "N = Loan tenure in months = 20 years * 12 = 240 months\n",
      "\n",
      "EMI = [1500000 x 0.0083333 x (1+0.0083333)^240] / [(1+0.0083333)^240 - 1]\n",
      "EMI ≈ 14157.47 Rupees\n",
      "\n",
      "Next, calculate the Total Monthly EMI by adding the EMI of the current loan and the EMI of other loans:\n",
      "Total Monthly EMI = EMI of the Current Loan + Other Loans\n",
      "Given that the EMI of the scooter loan is 3500 Rupees:\n",
      "Total Monthly EMI = 14157.47 + 3500\n",
      "Total Monthly EMI ≈ 17657.47 Rupees\n",
      "\n",
      "Next, let's determine the weightage based on the criteria provided:\n",
      "\n",
      "1. Credit Score:\n",
      "Credit Score: 673 falls under the \"Rating: Good\" category\n",
      "Weightage: 10 points\n",
      "\n",
      "2. Income and Employment Verification:\n",
      "Stable job and consistent income: +10 points\n",
      "\n",
      "3. Debt-to-Income Ratio (DTI):\n",
      "DTI calculation:\n",
      "Monthly Income = 74800 (September) + 73550 (August) = 148350 Rupees\n",
      "Total Monthly EMI = 17657.47 Rupees (as calculated above)\n",
      "DTI = (Total Monthly EMI / Monthly Income) * 100 = (17657.47 / 148350) * 100 ≈ 11.90%\n",
      "\n",
      "DTI falls below 30%, so the weightage is +12 points\n",
      "\n",
      "4. Loan Amount and Collateral:\n",
      "Collateral offered (property value): +15 points\n",
      "Loan amount within 80% of collateral value: +10 points\n",
      "\n",
      "5. Loan Purpose:\n",
      "Primary residence: +15 points\n",
      "\n",
      "6. Regulatory Compliance:\n",
      "Adhering to all regulatory guidelines: +10 points\n",
      "\n",
      "7. Loan-to-Value Ratio (LTV):\n",
      "LTV calculation:\n",
      "Loan Amount = 1500000 Rupees\n",
      "Property Value = 1600000 Rupees\n",
      "LTV = (Loan Amount / Property Value) * 100 = (1500000 / 1600000) * 100 = 93.75%\n",
      "\n",
      "Since LTV is above 90%, the weightage is -10 points\n",
      "\n",
      "8. Loan Repayment Terms:\n",
      "Flexible EMIs for 15 years: +10 points\n",
      "\n",
      "Final Weightage Calculation:\n",
      "Total Weightage = Credit Score (10) + Income and Employment Verification (10) + DTI (12) + Loan Amount and Collateral (15+10) + Loan Purpose (15) + Regulatory Compliance (10) + Loan-to-Value Ratio (10) + Loan Repayment Terms (10)\n",
      "Total Weightage = 82 points\n",
      "\n",
      "Variance from Preferred Values:\n",
      "- Debt-to-Income Ratio (Preferred: 35%) = -23 points\n",
      "- Loan-to-Value Ratio (Preferred: 80% or more) = -10 points\n",
      "\n",
      "Final Weightage: 82 points - 23 points - 10 points = 49 points\n",
      "\n",
      "Therefore, the total weightage for the loan application is 49 points, considering the provided criteria and calculations.\n"
     ]
    }
   ],
   "source": [
    "print(weightageasPerDocs)"
   ]
  },
  {
   "cell_type": "code",
   "execution_count": null,
   "id": "1bb2da9f",
   "metadata": {},
   "outputs": [],
   "source": []
  }
 ],
 "metadata": {
  "kernelspec": {
   "display_name": "Python 3 (ipykernel)",
   "language": "python",
   "name": "python3"
  },
  "language_info": {
   "codemirror_mode": {
    "name": "ipython",
    "version": 3
   },
   "file_extension": ".py",
   "mimetype": "text/x-python",
   "name": "python",
   "nbconvert_exporter": "python",
   "pygments_lexer": "ipython3",
   "version": "3.11.4"
  }
 },
 "nbformat": 4,
 "nbformat_minor": 5
}
